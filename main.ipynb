{
  "nbformat": 4,
  "nbformat_minor": 0,
  "metadata": {
    "colab": {
      "provenance": [],
      "authorship_tag": "ABX9TyOAgB88WApwGEzGs0nQNL51",
      "include_colab_link": true
    },
    "kernelspec": {
      "name": "python3",
      "display_name": "Python 3"
    },
    "language_info": {
      "name": "python"
    }
  },
  "cells": [
    {
      "cell_type": "markdown",
      "metadata": {
        "id": "view-in-github",
        "colab_type": "text"
      },
      "source": [
        "<a href=\"https://colab.research.google.com/github/Milene-d/MLops/blob/main/main.ipynb\" target=\"_parent\"><img src=\"https://colab.research.google.com/assets/colab-badge.svg\" alt=\"Open In Colab\"/></a>"
      ]
    },
    {
      "cell_type": "code",
      "execution_count": 8,
      "metadata": {
        "id": "sGdgy_gCXe4w"
      },
      "outputs": [],
      "source": [
        "from flask import Flask, request, jsonify\n",
        "from textblob import TextBlob\n",
        "import pandas as pd\n",
        "from sklearn.model_selection import train_test_split\n",
        "from sklearn.linear_model import LinearRegression"
      ]
    },
    {
      "cell_type": "code",
      "source": [
        "df = pd.read_csv('casas.txt', sep= ',', header=0)\n",
        "colunas = ['tamanho', 'ano', 'garagem']\n",
        "#df = df[colunas]"
      ],
      "metadata": {
        "id": "nePYWD9OtY1E"
      },
      "execution_count": null,
      "outputs": []
    },
    {
      "cell_type": "code",
      "source": [
        "X = df.drop('preco', axis = 1)\n",
        "y = df['preco']\n",
        "X_train, X_test, y_train, y_test = train_test_split(X, y, test_size = 0.3, random_state = 42)\n",
        "modelo = LinearRegression()\n",
        "modelo.fit(X_train, y_train)"
      ],
      "metadata": {
        "id": "gk7_wLsKtm9u"
      },
      "execution_count": null,
      "outputs": []
    },
    {
      "cell_type": "code",
      "source": [
        "app = Flask('_name_')\n",
        "@app.route('/')\n",
        "def home():\n",
        "  return \"Minha primeira API.\""
      ],
      "metadata": {
        "colab": {
          "base_uri": "https://localhost:8080/",
          "height": 269
        },
        "id": "choxNh6TaA4F",
        "outputId": "cdd8719e-9cce-4037-a302-ecfdfa1b6d84"
      },
      "execution_count": 9,
      "outputs": [
        {
          "output_type": "stream",
          "name": "stdout",
          "text": [
            " * Serving Flask app \"meu_app\" (lazy loading)\n",
            " * Environment: production\n",
            "\u001b[31m   WARNING: This is a development server. Do not use it in a production deployment.\u001b[0m\n",
            "\u001b[2m   Use a production WSGI server instead.\u001b[0m\n",
            " * Debug mode: on\n"
          ]
        },
        {
          "output_type": "stream",
          "name": "stderr",
          "text": [
            "INFO:werkzeug: * Running on http://127.0.0.1:5000/ (Press CTRL+C to quit)\n",
            "INFO:werkzeug: * Restarting with stat\n"
          ]
        },
        {
          "output_type": "error",
          "ename": "SystemExit",
          "evalue": "ignored",
          "traceback": [
            "An exception has occurred, use %tb to see the full traceback.\n",
            "\u001b[0;31mSystemExit\u001b[0m\u001b[0;31m:\u001b[0m 1\n"
          ]
        },
        {
          "output_type": "stream",
          "name": "stderr",
          "text": [
            "/usr/local/lib/python3.7/dist-packages/IPython/core/interactiveshell.py:3334: UserWarning: To exit: use 'exit', 'quit', or Ctrl-D.\n",
            "  warn(\"To exit: use 'exit', 'quit', or Ctrl-D.\", stacklevel=1)\n"
          ]
        }
      ]
    },
    {
      "cell_type": "code",
      "source": [
        "@app.route('/sentimento/<frase>')\n",
        "\n",
        "def sentimento(frase):\n",
        "  tb = TextBlob(frase)\n",
        "  tb_en = tb.translate(from_lang='pt_br',to=\"en\")\n",
        "  polaridade = tb_en.sentiment.polarity\n",
        "  return \"Polaridade: {}\".format(polaridade)"
      ],
      "metadata": {
        "id": "fBOuBdRCgV5C"
      },
      "execution_count": null,
      "outputs": []
    },
    {
      "cell_type": "code",
      "source": [
        "@app.route('/cotacao/', methods=['POST'])\n",
        "def cotacao():\n",
        "  dados = request.get_json()\n",
        "  dados_input = [dados[col] for col in colunas]\n",
        "  preco = modelo.predict([dados_input])\n",
        "  return jsonify(preco = preco[0])\n"
      ],
      "metadata": {
        "id": "9pZmRvd-gUav"
      },
      "execution_count": null,
      "outputs": []
    },
    {
      "cell_type": "code",
      "source": [
        "app.run(debug=True)"
      ],
      "metadata": {
        "id": "bbPWAJzcfWWz"
      },
      "execution_count": null,
      "outputs": []
    }
  ]
}