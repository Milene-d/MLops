{
  "nbformat": 4,
  "nbformat_minor": 0,
  "metadata": {
    "colab": {
      "provenance": [],
      "authorship_tag": "ABX9TyNFugJJ3xqnlDFKRuXvWpws",
      "include_colab_link": true
    },
    "kernelspec": {
      "name": "python3",
      "display_name": "Python 3"
    },
    "language_info": {
      "name": "python"
    }
  },
  "cells": [
    {
      "cell_type": "markdown",
      "metadata": {
        "id": "view-in-github",
        "colab_type": "text"
      },
      "source": [
        "<a href=\"https://colab.research.google.com/github/Milene-d/MLops/blob/main/API_consumo.ipynb\" target=\"_parent\"><img src=\"https://colab.research.google.com/assets/colab-badge.svg\" alt=\"Open In Colab\"/></a>"
      ]
    },
    {
      "cell_type": "code",
      "execution_count": 1,
      "metadata": {
        "id": "mH4NVmM9KLaL"
      },
      "outputs": [],
      "source": [
        "import requests"
      ]
    },
    {
      "cell_type": "code",
      "source": [
        "url = 'http://127.0.0.1:5000/cotacao/'"
      ],
      "metadata": {
        "id": "12cCZL0WPCJW"
      },
      "execution_count": 3,
      "outputs": []
    },
    {
      "cell_type": "code",
      "source": [
        "dados = {\n",
        "    \"tamanho\":120,\n",
        "    \"ano\":2001,\n",
        "    \"garagem\":2\n",
        "}"
      ],
      "metadata": {
        "id": "yeRivlhkPHKD"
      },
      "execution_count": 4,
      "outputs": []
    },
    {
      "cell_type": "code",
      "source": [
        "usuario = 'milene'\n",
        "senha = '123abc'"
      ],
      "metadata": {
        "id": "QGIcV9QLPXaU"
      },
      "execution_count": 5,
      "outputs": []
    },
    {
      "cell_type": "code",
      "source": [
        "auth = requests.auth.HTTPBasicAuth(usuario, senha)"
      ],
      "metadata": {
        "id": "RyIahpP_POtz"
      },
      "execution_count": 6,
      "outputs": []
    },
    {
      "cell_type": "code",
      "source": [
        "response = requests.post(url, jason = dados, auth = auth)"
      ],
      "metadata": {
        "id": "rlBRwSZ5PeBU"
      },
      "execution_count": null,
      "outputs": []
    },
    {
      "cell_type": "code",
      "source": [
        "response.status_code"
      ],
      "metadata": {
        "id": "fzePT1n7Pmu8"
      },
      "execution_count": null,
      "outputs": []
    },
    {
      "cell_type": "code",
      "source": [
        "response.text"
      ],
      "metadata": {
        "id": "nvyh3RXBPqZj"
      },
      "execution_count": null,
      "outputs": []
    }
  ]
}